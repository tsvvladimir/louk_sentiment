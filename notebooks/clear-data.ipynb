{
 "cells": [
  {
   "cell_type": "code",
   "execution_count": 91,
   "metadata": {
    "collapsed": false
   },
   "outputs": [],
   "source": [
    "# -*- coding: utf-8 -*-\n",
    "import xml.etree.ElementTree as ET\n",
    "from tqdm import tqdm"
   ]
  },
  {
   "cell_type": "code",
   "execution_count": 92,
   "metadata": {
    "collapsed": true
   },
   "outputs": [],
   "source": [
    "tree_train = ET.parse('../data/raw/news_sentiment_romip2012/train/news_eval_train.xml')\n",
    "root_train = tree_train.getroot()\n",
    "tree_test = ET.parse('../data/raw/news_sentiment_romip2012/test/news_eval_test.xml')\n",
    "root_test = tree_test.getroot()"
   ]
  },
  {
   "cell_type": "code",
   "execution_count": 93,
   "metadata": {
    "collapsed": true
   },
   "outputs": [],
   "source": [
    "train_data = []\n",
    "train_target = []\n",
    "test_data = []\n",
    "test_target = []\n",
    "evs = {'0':3, '+':2, '-':1}\n",
    "for child in root_train:\n",
    "    speech = child.find('speech').text\n",
    "    ev = child.find('evaluation').text.strip()\n",
    "    if ev in evs.keys():\n",
    "        train_data.append(speech)\n",
    "        train_target.append(evs[ev])\n",
    "for child in root_test:\n",
    "    speech = child.find('speech').text\n",
    "    ev = child.find('evaluation').text.strip()\n",
    "    if ev in evs.keys():\n",
    "        test_data.append(speech)\n",
    "        test_target.append(evs[ev])"
   ]
  },
  {
   "cell_type": "code",
   "execution_count": 94,
   "metadata": {
    "collapsed": false
   },
   "outputs": [],
   "source": [
    "import re\n",
    "import pymorphy2 as pm2\n",
    "morph = pm2.MorphAnalyzer()"
   ]
  },
  {
   "cell_type": "code",
   "execution_count": 95,
   "metadata": {
    "collapsed": false
   },
   "outputs": [],
   "source": [
    "def normalize_text(text):\n",
    "    normal_forms = []\n",
    "    for word in re.findall(ur'[а-я]+', text.lower()):\n",
    "        parsed = morph.parse(word)[0]\n",
    "        norm_form = parsed.normal_form\n",
    "        normal_forms.append(norm_form)\n",
    "    normal_text = ' '.join(normal_forms)\n",
    "    return normal_text"
   ]
  },
  {
   "cell_type": "code",
   "execution_count": 96,
   "metadata": {
    "collapsed": false
   },
   "outputs": [],
   "source": [
    "from joblib import Parallel, delayed  \n",
    "import multiprocessing\n",
    "num_cores = multiprocessing.cpu_count()"
   ]
  },
  {
   "cell_type": "code",
   "execution_count": 97,
   "metadata": {
    "collapsed": false
   },
   "outputs": [],
   "source": [
    "train_data = Parallel(n_jobs=num_cores)(delayed(normalize_text)(text) for text in train_data)"
   ]
  },
  {
   "cell_type": "code",
   "execution_count": 98,
   "metadata": {
    "collapsed": false
   },
   "outputs": [],
   "source": [
    "test_data = Parallel(n_jobs=num_cores)(delayed(normalize_text)(text) for text in test_data)"
   ]
  },
  {
   "cell_type": "code",
   "execution_count": 99,
   "metadata": {
    "collapsed": true
   },
   "outputs": [],
   "source": [
    "import codecs"
   ]
  },
  {
   "cell_type": "code",
   "execution_count": 100,
   "metadata": {
    "collapsed": false
   },
   "outputs": [
    {
     "name": "stderr",
     "output_type": "stream",
     "text": [
      "3893it [00:00, 78784.99it/s]\n",
      "4573it [00:00, 69456.25it/s]\n"
     ]
    }
   ],
   "source": [
    "train_f = codecs.open('../data/interim/clear_train.csv', 'w', 'utf-8')\n",
    "for idx, val in tqdm(enumerate(train_data)):\n",
    "    train_f.write(train_data[idx] + ',' + str(train_target[idx]) + '\\n')\n",
    "train_f.close()\n",
    "test_f = codecs.open('../data/interim/clear_test.csv', 'w', 'utf-8')\n",
    "for idx, val in tqdm(enumerate(test_data)):\n",
    "    test_f.write(test_data[idx] + ',' + str(test_target[idx]) + '\\n')\n",
    "test_f.close()"
   ]
  }
 ],
 "metadata": {
  "kernelspec": {
   "display_name": "Python 2",
   "language": "python",
   "name": "python2"
  },
  "language_info": {
   "codemirror_mode": {
    "name": "ipython",
    "version": 2
   },
   "file_extension": ".py",
   "mimetype": "text/x-python",
   "name": "python",
   "nbconvert_exporter": "python",
   "pygments_lexer": "ipython2",
   "version": "2.7.11"
  }
 },
 "nbformat": 4,
 "nbformat_minor": 0
}
