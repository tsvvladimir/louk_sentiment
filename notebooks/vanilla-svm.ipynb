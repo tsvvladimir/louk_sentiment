{
 "cells": [
  {
   "cell_type": "code",
   "execution_count": 41,
   "metadata": {
    "collapsed": true
   },
   "outputs": [],
   "source": [
    "from __future__ import division\n",
    "from sklearn.datasets import load_svmlight_file"
   ]
  },
  {
   "cell_type": "code",
   "execution_count": 26,
   "metadata": {
    "collapsed": true
   },
   "outputs": [],
   "source": [
    "train_data, train_target = load_svmlight_file('../data/libsvm/train_tfidf.libsvm', zero_based=True)\n",
    "test_data, test_target = load_svmlight_file('../data/libsvm/test_tfidf.libsvm', zero_based=True)"
   ]
  },
  {
   "cell_type": "code",
   "execution_count": 27,
   "metadata": {
    "collapsed": true
   },
   "outputs": [],
   "source": [
    "from sklearn.svm import LinearSVC"
   ]
  },
  {
   "cell_type": "code",
   "execution_count": 28,
   "metadata": {
    "collapsed": false
   },
   "outputs": [
    {
     "name": "stdout",
     "output_type": "stream",
     "text": [
      "(3893, 13722)\n"
     ]
    }
   ],
   "source": [
    "model = LinearSVC()\n",
    "model.fit(train_data, train_target)"
   ]
  },
  {
   "cell_type": "code",
   "execution_count": 31,
   "metadata": {
    "collapsed": false
   },
   "outputs": [],
   "source": [
    "predicted = model.predict(test_data)"
   ]
  },
  {
   "cell_type": "code",
   "execution_count": 42,
   "metadata": {
    "collapsed": true
   },
   "outputs": [],
   "source": [
    "def my_f1_score(y_true, y_pred):\n",
    "    tp = 0\n",
    "    fn = 0\n",
    "    fp = 0\n",
    "    tn = 0\n",
    "    #pos 2\n",
    "    #neg 1\n",
    "    #zer 3\n",
    "    for idx, true_val in enumerate(y_true):\n",
    "        if true_val == 2 and y_pred[idx] == 2:\n",
    "            tp += 1\n",
    "        if true_val == 2 and y_pred[idx] == 1:\n",
    "            fn += 1\n",
    "        if true_val == 2 and y_pred[idx] == 3:\n",
    "            fn += 1\n",
    "        if true_val == 1 and y_pred[idx] == 2:\n",
    "            fp += 1\n",
    "        if true_val == 1 and y_pred[idx] == 1:\n",
    "            tn += 1\n",
    "        if true_val == 1 and y_pred[idx] == 3:\n",
    "            fp += 1\n",
    "        if true_val == 3 and y_pred[idx] == 2:\n",
    "            fp += 1\n",
    "        if true_val == 3 and y_pred[idx] == 1:\n",
    "            fn += 1\n",
    "    precision = tp / (tp + fp)\n",
    "    recall = tp / (tp + fn)\n",
    "    #print \"f1\", 2 * precision * recall / (precision + recall)\n",
    "    print 'tp', tp\n",
    "    return 2 * tp / (2 * tp + fn + fp)"
   ]
  },
  {
   "cell_type": "code",
   "execution_count": 43,
   "metadata": {
    "collapsed": false
   },
   "outputs": [
    {
     "name": "stdout",
     "output_type": "stream",
     "text": [
      "tp 964\n",
      "0.519536513069\n"
     ]
    }
   ],
   "source": [
    "print my_f1_score(test_target, predicted)"
   ]
  },
  {
   "cell_type": "code",
   "execution_count": null,
   "metadata": {
    "collapsed": true
   },
   "outputs": [],
   "source": []
  }
 ],
 "metadata": {
  "kernelspec": {
   "display_name": "Python 2",
   "language": "python",
   "name": "python2"
  },
  "language_info": {
   "codemirror_mode": {
    "name": "ipython",
    "version": 2
   },
   "file_extension": ".py",
   "mimetype": "text/x-python",
   "name": "python",
   "nbconvert_exporter": "python",
   "pygments_lexer": "ipython2",
   "version": "2.7.11"
  }
 },
 "nbformat": 4,
 "nbformat_minor": 0
}
