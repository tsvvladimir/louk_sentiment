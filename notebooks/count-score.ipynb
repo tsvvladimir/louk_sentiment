{
 "cells": [
  {
   "cell_type": "code",
   "execution_count": 31,
   "metadata": {
    "collapsed": false
   },
   "outputs": [],
   "source": [
    "from __future__ import division\n",
    "import csv\n",
    "import codecs\n",
    "from tqdm import tqdm"
   ]
  },
  {
   "cell_type": "code",
   "execution_count": 18,
   "metadata": {
    "collapsed": false
   },
   "outputs": [
    {
     "name": "stderr",
     "output_type": "stream",
     "text": [
      "4573it [00:00, 104576.32it/s]\n",
      "4573it [00:00, 594911.83it/s]\n"
     ]
    }
   ],
   "source": [
    "predicted = []\n",
    "test_target = []\n",
    "with codecs.open('../data/interim/clear_test.csv', 'r') as test_file:\n",
    "    data_reader = csv.reader(test_file)\n",
    "    for row in tqdm(data_reader):\n",
    "        test_target.append(float(row[1]))\n",
    "with codecs.open('../data/predictions/oaa.predict', 'r') as test_file:\n",
    "    data_reader = csv.reader(test_file)\n",
    "    for row in tqdm(data_reader):\n",
    "        predicted.append(float(row[0]))"
   ]
  },
  {
   "cell_type": "code",
   "execution_count": 38,
   "metadata": {
    "collapsed": false
   },
   "outputs": [],
   "source": [
    "def my_f1_score(y_true, y_pred):\n",
    "    tp = 0\n",
    "    fn = 0\n",
    "    fp = 0\n",
    "    tn = 0\n",
    "    #pos 2\n",
    "    #neg 1\n",
    "    #zer 3\n",
    "    for idx, true_val in enumerate(y_true):\n",
    "        if true_val == 2 and y_pred[idx] == 2:\n",
    "            tp += 1\n",
    "        if true_val == 2 and y_pred[idx] == 1:\n",
    "            fn += 1\n",
    "        if true_val == 2 and y_pred[idx] == 3:\n",
    "            fn += 1\n",
    "        if true_val == 1 and y_pred[idx] == 2:\n",
    "            fp += 1\n",
    "        if true_val == 1 and y_pred[idx] == 1:\n",
    "            tn += 1\n",
    "        if true_val == 1 and y_pred[idx] == 3:\n",
    "            fp += 1\n",
    "        if true_val == 3 and y_pred[idx] == 2:\n",
    "            fp += 1\n",
    "        if true_val == 3 and y_pred[idx] == 1:\n",
    "            fn += 1\n",
    "    precision = tp / (tp + fp)\n",
    "    recall = tp / (tp + fn)\n",
    "    #print \"f1\", 2 * precision * recall / (precision + recall)\n",
    "    return 2 * tp / (2 * tp + fn + fp)"
   ]
  },
  {
   "cell_type": "code",
   "execution_count": 39,
   "metadata": {
    "collapsed": false
   },
   "outputs": [
    {
     "name": "stdout",
     "output_type": "stream",
     "text": [
      "0.540208388993\n"
     ]
    }
   ],
   "source": [
    "print my_f1_score(test_target, predicted)"
   ]
  },
  {
   "cell_type": "code",
   "execution_count": null,
   "metadata": {
    "collapsed": true
   },
   "outputs": [],
   "source": []
  }
 ],
 "metadata": {
  "kernelspec": {
   "display_name": "Python 2",
   "language": "python",
   "name": "python2"
  },
  "language_info": {
   "codemirror_mode": {
    "name": "ipython",
    "version": 2
   },
   "file_extension": ".py",
   "mimetype": "text/x-python",
   "name": "python",
   "nbconvert_exporter": "python",
   "pygments_lexer": "ipython2",
   "version": "2.7.11"
  }
 },
 "nbformat": 4,
 "nbformat_minor": 0
}
