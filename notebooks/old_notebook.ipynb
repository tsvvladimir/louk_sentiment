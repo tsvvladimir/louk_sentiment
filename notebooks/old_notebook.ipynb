{
 "cells": [
  {
   "cell_type": "code",
   "execution_count": 15,
   "metadata": {
    "collapsed": false
   },
   "outputs": [],
   "source": [
    "from __future__ import division\n",
    "import xml.etree.ElementTree as ET\n",
    "from tqdm import tqdm\n",
    "from sklearn.pipeline import Pipeline\n",
    "from sklearn.feature_extraction.text import CountVectorizer\n",
    "from sklearn.feature_extraction.text import TfidfTransformer\n",
    "from sklearn.svm import LinearSVC\n",
    "from sklearn.metrics import f1_score\n",
    "from sklearn.metrics import roc_auc_score\n",
    "import sys\n",
    "import xgboost as xgb\n",
    "from xgboost.sklearn import XGBClassifier\n",
    "from sklearn.feature_extraction.text import TfidfVectorizer\n",
    "from sklearn import cross_validation, metrics\n",
    "from sklearn.grid_search import GridSearchCV\n",
    "from collections import Counter\n",
    "import numpy as np"
   ]
  },
  {
   "cell_type": "code",
   "execution_count": 16,
   "metadata": {
    "collapsed": false
   },
   "outputs": [],
   "source": [
    "tree_train = ET.parse('../data/raw/news_sentiment_romip2012/train/news_eval_train.xml')\n",
    "root_train = tree_train.getroot()\n",
    "tree_test = ET.parse('../data/raw/news_sentiment_romip2012/test/news_eval_test.xml')\n",
    "root_test = tree_test.getroot()"
   ]
  },
  {
   "cell_type": "code",
   "execution_count": 17,
   "metadata": {
    "collapsed": false
   },
   "outputs": [
    {
     "name": "stderr",
     "output_type": "stream",
     "text": [
      "100%|██████████| 4260/4260 [00:00<00:00, 63549.83it/s]\n",
      "100%|██████████| 5500/5500 [00:00<00:00, 62495.73it/s]\n"
     ]
    }
   ],
   "source": [
    "train_data = []\n",
    "train_target = []\n",
    "test_data = []\n",
    "test_target = []\n",
    "evs = {'0':2, '+':0, '-':1}\n",
    "for child in tqdm(root_train):\n",
    "    speech = child.find('speech').text\n",
    "    ev = child.find('evaluation').text.strip()\n",
    "    if ev in evs.keys():\n",
    "        train_data.append(speech)\n",
    "        train_target.append(evs[ev])\n",
    "for child in tqdm(root_test):\n",
    "    speech = child.find('speech').text\n",
    "    ev = child.find('evaluation').text.strip()\n",
    "    if ev in evs.keys():\n",
    "        test_data.append(speech)\n",
    "        test_target.append(evs[ev])"
   ]
  },
  {
   "cell_type": "code",
   "execution_count": 18,
   "metadata": {
    "collapsed": false
   },
   "outputs": [
    {
     "name": "stdout",
     "output_type": "stream",
     "text": [
      "[0 1 2]\n",
      "[0 1 2]\n",
      "Counter({1: 1864, 0: 1115, 2: 914})\n",
      "Counter({1: 1890, 0: 1448, 2: 1235})\n"
     ]
    }
   ],
   "source": [
    "print np.unique(train_target)\n",
    "print np.unique(test_target)\n",
    "print Counter(train_target)\n",
    "print Counter(test_target)"
   ]
  },
  {
   "cell_type": "code",
   "execution_count": 5,
   "metadata": {
    "collapsed": false
   },
   "outputs": [],
   "source": [
    "baseline_clf = Pipeline([\n",
    "('vect', CountVectorizer()),\n",
    "('tfidf', TfidfTransformer(use_idf=False)),\n",
    "('clf', LinearSVC()),\n",
    "])\n",
    "baseline_clf.fit(train_data, train_target)\n",
    "predicted = baseline_clf.predict(test_data)"
   ]
  },
  {
   "cell_type": "code",
   "execution_count": 6,
   "metadata": {
    "collapsed": false
   },
   "outputs": [],
   "source": [
    "new_target = []\n",
    "new_predicted = []\n",
    "for i in range(len(predicted)):\n",
    "    if (predicted[i] in [0, 1]) and (test_target[i] in [0, 1]):\n",
    "        new_target.append(test_target[i])\n",
    "        new_predicted.append(predicted[i])"
   ]
  },
  {
   "cell_type": "code",
   "execution_count": 7,
   "metadata": {
    "collapsed": false
   },
   "outputs": [
    {
     "name": "stdout",
     "output_type": "stream",
     "text": [
      "LinearSVC 0.811444921316\n"
     ]
    }
   ],
   "source": [
    "score = f1_score(new_target, new_predicted)\n",
    "print 'LinearSVC', score"
   ]
  },
  {
   "cell_type": "code",
   "execution_count": 8,
   "metadata": {
    "collapsed": false
   },
   "outputs": [],
   "source": [
    "conv = Pipeline([\n",
    "('vect', CountVectorizer()),\n",
    "('tfidf', TfidfTransformer()),\n",
    "])\n",
    "train_data = conv.fit_transform(train_data)\n",
    "test_data = conv.transform(test_data)"
   ]
  },
  {
   "cell_type": "code",
   "execution_count": 9,
   "metadata": {
    "collapsed": false
   },
   "outputs": [],
   "source": [
    "dtrain = xgb.DMatrix(train_data, label=train_target)\n",
    "param = {}\n",
    "param['objective'] = 'multi:softmax'\n",
    "param['num_class'] = 3\n",
    "bst = xgb.train(param, dtrain)"
   ]
  },
  {
   "cell_type": "code",
   "execution_count": 10,
   "metadata": {
    "collapsed": false
   },
   "outputs": [],
   "source": [
    "dtest = xgb.DMatrix(test_data)\n",
    "ypred = bst.predict(dtest)"
   ]
  },
  {
   "cell_type": "code",
   "execution_count": 11,
   "metadata": {
    "collapsed": false
   },
   "outputs": [],
   "source": [
    "new_target = []\n",
    "new_predicted = []\n",
    "for i in range(len(ypred)):\n",
    "    if (ypred[i] in [0, 1]) and (test_target[i] in [0, 1]):\n",
    "        new_target.append(test_target[i])\n",
    "        new_predicted.append(ypred[i])"
   ]
  },
  {
   "cell_type": "code",
   "execution_count": 12,
   "metadata": {
    "collapsed": false
   },
   "outputs": [
    {
     "name": "stdout",
     "output_type": "stream",
     "text": [
      "xgboost 0.747465645416\n"
     ]
    }
   ],
   "source": [
    "score = f1_score(new_target, new_predicted)\n",
    "print 'xgboost', score"
   ]
  },
  {
   "cell_type": "code",
   "execution_count": 13,
   "metadata": {
    "collapsed": false
   },
   "outputs": [],
   "source": [
    "def modelfit(alg, train_data, train_target,useTrainCV=True, cv_folds=5, early_stopping_rounds=50):\n",
    "    if useTrainCV:\n",
    "        xgb_param = alg.get_xgb_params()\n",
    "        xgb_param['num_class'] = 3\n",
    "        xgtrain = xgb.DMatrix(train_data, label=train_target)\n",
    "        cvresult = xgb.cv(xgb_param, xgtrain, num_boost_round=alg.get_params()['n_estimators'], nfold=cv_folds,\n",
    "            metrics='merror', early_stopping_rounds=early_stopping_rounds, show_stdv=True)\n",
    "        print 'n_estimators (num_boost_round)', cvresult.shape[0]\n",
    "        alg.set_params(n_estimators=cvresult.shape[0])\n",
    "    \n",
    "    #Fit the algorithm on the data\n",
    "    alg.fit(train_data, train_target,eval_metric='merror')\n",
    "        \n",
    "    #Predict training set:\n",
    "    dtrain_predictions = alg.predict(train_data)\n",
    "    dtrain_predprob = alg.predict_proba(train_data)[:,1]\n",
    "    \n",
    "    new_target = []\n",
    "    new_predicted = []\n",
    "    for i in range(len(dtrain_predictions)):\n",
    "        if (dtrain_predictions[i] in [0, 1]) and (train_target[i] in [0, 1]):\n",
    "            new_target.append(train_target[i])\n",
    "            new_predicted.append(dtrain_predictions[i])    \n",
    "    #Print model report:\n",
    "    print \"\\nModel Report\"\n",
    "    print \"f1score(Train) : %.4g\" % metrics.f1_score(new_target, new_predicted)\n",
    "    #print \"F1 Score (Train): %f\" % metrics.f1_score(train_target, dtrain_predprob)"
   ]
  },
  {
   "cell_type": "code",
   "execution_count": 14,
   "metadata": {
    "collapsed": false
   },
   "outputs": [
    {
     "name": "stdout",
     "output_type": "stream",
     "text": [
      "n_estimators (num_boost_round) 293\n",
      "\n",
      "Model Report\n",
      "f1score(Train) : 0.9484\n",
      "CPU times: user 1min 48s, sys: 2.93 s, total: 1min 51s\n",
      "Wall time: 56.2 s\n"
     ]
    }
   ],
   "source": [
    "%%time\n",
    "xgb1 = XGBClassifier(\n",
    " learning_rate =0.1,\n",
    " n_estimators=1000,\n",
    " max_depth=5,\n",
    " #max_depth=16,\n",
    " min_child_weight=1,\n",
    " #min_child_weight=3,\n",
    " gamma=0,\n",
    " subsample=0.8,\n",
    " colsample_bytree=0.8,\n",
    " objective= 'multi:softmax',\n",
    " scale_pos_weight=1,\n",
    " seed=27)\n",
    "modelfit(xgb1, train_data, train_target)"
   ]
  },
  {
   "cell_type": "code",
   "execution_count": 15,
   "metadata": {
    "collapsed": false
   },
   "outputs": [],
   "source": [
    "#dtest = xgb.DMatrix(test_data)\n",
    "ypred = xgb1.predict(test_data)"
   ]
  },
  {
   "cell_type": "code",
   "execution_count": 16,
   "metadata": {
    "collapsed": false
   },
   "outputs": [],
   "source": [
    "new_target = []\n",
    "new_predicted = []\n",
    "for i in range(len(ypred)):\n",
    "    if (ypred[i] in [0, 1]) and (test_target[i] in [0, 1]):\n",
    "        new_target.append(test_target[i])\n",
    "        new_predicted.append(ypred[i])"
   ]
  },
  {
   "cell_type": "code",
   "execution_count": 17,
   "metadata": {
    "collapsed": false
   },
   "outputs": [
    {
     "name": "stdout",
     "output_type": "stream",
     "text": [
      "xgboost 0.766085059978\n"
     ]
    }
   ],
   "source": [
    "score = f1_score(new_target, new_predicted)\n",
    "print 'xgboost', score"
   ]
  },
  {
   "cell_type": "code",
   "execution_count": null,
   "metadata": {
    "collapsed": false
   },
   "outputs": [
    {
     "name": "stdout",
     "output_type": "stream",
     "text": [
      "Fitting 5 folds for each of 50 candidates, totalling 250 fits\n",
      "[CV] max_depth=1, min_child_weight=1 .................................\n",
      "[CV] ........ max_depth=1, min_child_weight=1, score=0.443422 -   1.6s\n",
      "[Parallel(n_jobs=1)]: Done   1 jobs       | elapsed:    1.6s\n",
      "[CV] max_depth=1, min_child_weight=1 .................................\n",
      "[CV] ........ max_depth=1, min_child_weight=1, score=0.416910 -   1.4s\n",
      "[Parallel(n_jobs=1)]: Done   2 jobs       | elapsed:    3.0s\n",
      "[CV] max_depth=1, min_child_weight=1 .................................\n",
      "[CV] ........ max_depth=1, min_child_weight=1, score=0.466848 -   1.5s\n",
      "[Parallel(n_jobs=1)]: Done   3 jobs       | elapsed:    4.5s\n",
      "[CV] max_depth=1, min_child_weight=1 .................................\n",
      "[CV] ........ max_depth=1, min_child_weight=1, score=0.415190 -   1.5s\n",
      "[Parallel(n_jobs=1)]: Done   4 jobs       | elapsed:    6.0s\n",
      "[CV] max_depth=1, min_child_weight=1 .................................\n",
      "[CV] ........ max_depth=1, min_child_weight=1, score=0.423197 -   1.6s\n",
      "[Parallel(n_jobs=1)]: Done   5 jobs       | elapsed:    7.5s\n",
      "[CV] max_depth=1, min_child_weight=3 .................................\n",
      "[CV] ........ max_depth=1, min_child_weight=3, score=0.441049 -   1.4s\n",
      "[Parallel(n_jobs=1)]: Done   6 jobs       | elapsed:    9.0s\n",
      "[CV] max_depth=1, min_child_weight=3 .................................\n",
      "[CV] ........ max_depth=1, min_child_weight=3, score=0.419202 -   1.5s\n",
      "[Parallel(n_jobs=1)]: Done   7 jobs       | elapsed:   10.5s\n",
      "[CV] max_depth=1, min_child_weight=3 .................................\n",
      "[CV] ........ max_depth=1, min_child_weight=3, score=0.463477 -   1.4s\n",
      "[Parallel(n_jobs=1)]: Done   8 jobs       | elapsed:   11.9s\n",
      "[CV] max_depth=1, min_child_weight=3 .................................\n",
      "[CV] ........ max_depth=1, min_child_weight=3, score=0.412438 -   1.4s"
     ]
    }
   ],
   "source": [
    "%%time\n",
    "param_test1 = {\n",
    " 'max_depth':range(1,20,2),\n",
    " 'min_child_weight':range(1,10,2)\n",
    "}\n",
    "gsearch1 = GridSearchCV(estimator = XGBClassifier( learning_rate =0.1, n_estimators=140, max_depth=5,\n",
    " min_child_weight=1, gamma=0, subsample=0.8, colsample_bytree=0.8,\n",
    " objective= 'multi:softmax', nthread=4, scale_pos_weight=1, seed=27), \n",
    " param_grid = param_test1, scoring='f1',iid=False, cv=5, verbose=100)\n",
    "gsearch1.fit(train_data,train_target)\n",
    "\n",
    "print gsearch1.grid_scores_\n",
    "print gsearch1.best_params_\n",
    "print gsearch1.best_score_"
   ]
  },
  {
   "cell_type": "code",
   "execution_count": null,
   "metadata": {
    "collapsed": false
   },
   "outputs": [],
   "source": [
    "%%time\n",
    "param_test2 = {\n",
    " 'max_depth':[14,15, 16],\n",
    " 'min_child_weight':[2, 3, 4]\n",
    "}\n",
    "gsearch1 = GridSearchCV(estimator = XGBClassifier( learning_rate =0.1, n_estimators=140, max_depth=5,\n",
    " min_child_weight=1, gamma=0, subsample=0.8, colsample_bytree=0.8,\n",
    " objective= 'multi:softmax', nthread=4, scale_pos_weight=1, seed=27), \n",
    " param_grid = param_test2, scoring='f1',iid=False, cv=5, verbose=100)\n",
    "gsearch1.fit(train_data,train_target)\n",
    "\n",
    "print gsearch1.grid_scores_\n",
    "print gsearch1.best_params_\n",
    "print gsearch1.best_score_"
   ]
  },
  {
   "cell_type": "code",
   "execution_count": null,
   "metadata": {
    "collapsed": false
   },
   "outputs": [],
   "source": [
    "%%time\n",
    "param_test2b = {\n",
    " 'min_child_weight':[3, 5, 7, 9]\n",
    "}\n",
    "gsearch1 = GridSearchCV(estimator = XGBClassifier( learning_rate =0.1, n_estimators=140, max_depth=16,\n",
    " min_child_weight=1, gamma=0, subsample=0.8, colsample_bytree=0.8,\n",
    " objective= 'multi:softmax', nthread=4, scale_pos_weight=1, seed=27), \n",
    " param_grid = param_test2b, scoring='f1',iid=False, cv=5, verbose=100)\n",
    "gsearch1.fit(train_data,train_target)\n",
    "\n",
    "print gsearch1.grid_scores_\n",
    "print gsearch1.best_params_\n",
    "print gsearch1.best_score_"
   ]
  },
  {
   "cell_type": "code",
   "execution_count": null,
   "metadata": {
    "collapsed": false
   },
   "outputs": [],
   "source": [
    "%%time\n",
    "param_test3 = {\n",
    " 'gamma':[i/10.0 for i in range(0,5)]\n",
    "}\n",
    "gsearch1 = GridSearchCV(estimator = XGBClassifier( learning_rate =0.1, n_estimators=140, max_depth=16,\n",
    " min_child_weight=3, gamma=0, subsample=0.8, colsample_bytree=0.8,\n",
    " objective= 'multi:softmax', nthread=4, scale_pos_weight=1, seed=27), \n",
    " param_grid = param_test3, scoring='f1',iid=False, cv=5, verbose=100)\n",
    "gsearch1.fit(train_data,train_target)\n",
    "\n",
    "print gsearch1.grid_scores_\n",
    "print gsearch1.best_params_\n",
    "print gsearch1.best_score_"
   ]
  },
  {
   "cell_type": "code",
   "execution_count": null,
   "metadata": {
    "collapsed": false
   },
   "outputs": [],
   "source": [
    "xgb2 = XGBClassifier(\n",
    " learning_rate =0.1,\n",
    " n_estimators=1000,\n",
    " max_depth=16,\n",
    " min_child_weight=3,\n",
    " gamma=0.0,\n",
    " subsample=0.8,\n",
    " colsample_bytree=0.8,\n",
    " objective= 'multi:softmax',\n",
    " nthread=4,\n",
    " scale_pos_weight=1,\n",
    " seed=27)\n",
    "modelfit(xgb2, train_data, train_target)"
   ]
  },
  {
   "cell_type": "code",
   "execution_count": null,
   "metadata": {
    "collapsed": false
   },
   "outputs": [],
   "source": [
    "%%time\n",
    "param_test4 = {\n",
    " 'subsample':[i/10.0 for i in range(6,10)],\n",
    " 'colsample_bytree':[i/10.0 for i in range(6,10)]\n",
    "}\n",
    "gsearch1 = GridSearchCV(estimator = XGBClassifier( learning_rate =0.1, n_estimators=140, max_depth=16,\n",
    " min_child_weight=3, gamma=0, subsample=0.8, colsample_bytree=0.8,\n",
    " objective= 'multi:softmax', nthread=4, scale_pos_weight=1, seed=27), \n",
    " param_grid = param_test4, scoring='f1',iid=False, cv=5, verbose=100)\n",
    "gsearch1.fit(train_data,train_target)\n",
    "\n",
    "print gsearch1.grid_scores_\n",
    "print gsearch1.best_params_\n",
    "print gsearch1.best_score_"
   ]
  },
  {
   "cell_type": "code",
   "execution_count": null,
   "metadata": {
    "collapsed": false
   },
   "outputs": [],
   "source": [
    "xgb2 = XGBClassifier(\n",
    " learning_rate =0.1,\n",
    " n_estimators=1000,\n",
    " max_depth=16,\n",
    " min_child_weight=3,\n",
    " gamma=0.0,\n",
    " subsample=0.9,\n",
    " colsample_bytree=0.9,\n",
    " objective= 'multi:softmax',\n",
    " nthread=4,\n",
    " scale_pos_weight=1,\n",
    " seed=27)\n",
    "modelfit(xgb2, train_data, train_target)"
   ]
  },
  {
   "cell_type": "code",
   "execution_count": null,
   "metadata": {
    "collapsed": false
   },
   "outputs": [],
   "source": [
    "%%time\n",
    "param_test5 = {\n",
    " 'subsample':[i/100.0 for i in range(85,100,5)],\n",
    " 'colsample_bytree':[i/100.0 for i in range(85,100,5)]\n",
    "}\n",
    "gsearch1 = GridSearchCV(estimator = XGBClassifier( learning_rate =0.1, n_estimators=140, max_depth=16,\n",
    " min_child_weight=3, gamma=0, subsample=0.8, colsample_bytree=0.8,\n",
    " objective= 'multi:softmax', nthread=4, scale_pos_weight=1, seed=27), \n",
    " param_grid = param_test5, scoring='f1',iid=False, cv=5, verbose=100)\n",
    "gsearch1.fit(train_data,train_target)\n",
    "\n",
    "print gsearch1.grid_scores_\n",
    "print gsearch1.best_params_\n",
    "print gsearch1.best_score_"
   ]
  },
  {
   "cell_type": "code",
   "execution_count": null,
   "metadata": {
    "collapsed": false
   },
   "outputs": [],
   "source": [
    "xgb2 = XGBClassifier(\n",
    " learning_rate =0.1,\n",
    " n_estimators=1000,\n",
    " max_depth=16,\n",
    " min_child_weight=3,\n",
    " gamma=0.0,\n",
    " subsample=0.95,\n",
    " colsample_bytree=0.95,\n",
    " objective= 'multi:softmax',\n",
    " nthread=4,\n",
    " scale_pos_weight=1,\n",
    " seed=27)\n",
    "modelfit(xgb2, train_data, train_target)"
   ]
  },
  {
   "cell_type": "code",
   "execution_count": null,
   "metadata": {
    "collapsed": false
   },
   "outputs": [],
   "source": [
    "%%time\n",
    "param_test6 = {\n",
    " 'reg_alpha':[1e-5, 1e-2, 0.1, 1, 100]\n",
    "}\n",
    "gsearch1 = GridSearchCV(estimator = XGBClassifier( learning_rate =0.1, n_estimators=140, max_depth=16,\n",
    " min_child_weight=3, gamma=0, subsample=0.9, colsample_bytree=0.9,\n",
    " objective= 'multi:softmax', nthread=4, scale_pos_weight=1, seed=27), \n",
    " param_grid = param_test6, scoring='f1',iid=False, cv=5, verbose=100)\n",
    "gsearch1.fit(train_data,train_target)\n",
    "\n",
    "print gsearch1.grid_scores_\n",
    "print gsearch1.best_params_\n",
    "print gsearch1.best_score_"
   ]
  },
  {
   "cell_type": "code",
   "execution_count": null,
   "metadata": {
    "collapsed": false
   },
   "outputs": [],
   "source": [
    "%%time\n",
    "param_test6 = {\n",
    " 'reg_alpha':[1e-5, 1e-2, 0.1, 1, 100]\n",
    "}\n",
    "gsearch1 = GridSearchCV(estimator = XGBClassifier( learning_rate =0.1, n_estimators=140, max_depth=16,\n",
    " min_child_weight=3, gamma=0, subsample=0.95, colsample_bytree=0.95,\n",
    " objective= 'multi:softmax', nthread=4, scale_pos_weight=1, seed=27), \n",
    " param_grid = param_test6, scoring='f1',iid=False, cv=5, verbose=100)\n",
    "gsearch1.fit(train_data,train_target)\n",
    "\n",
    "print gsearch1.grid_scores_\n",
    "print gsearch1.best_params_\n",
    "print gsearch1.best_score_"
   ]
  },
  {
   "cell_type": "code",
   "execution_count": null,
   "metadata": {
    "collapsed": false
   },
   "outputs": [],
   "source": [
    "%%time\n",
    "xgb2 = XGBClassifier(\n",
    " learning_rate =0.1,\n",
    " n_estimators=5000,\n",
    " max_depth=16,\n",
    " min_child_weight=3,\n",
    " gamma=0.0,\n",
    " subsample=0.95,\n",
    " colsample_bytree=0.95,\n",
    " objective= 'multi:softmax',\n",
    " nthread=4,\n",
    " scale_pos_weight=1,\n",
    " seed=27)\n",
    "modelfit(xgb2, train_data, train_target)"
   ]
  },
  {
   "cell_type": "code",
   "execution_count": null,
   "metadata": {
    "collapsed": false
   },
   "outputs": [],
   "source": [
    "#dtest = xgb.DMatrix(test_data)\n",
    "ypred = xgb1.predict(test_data)"
   ]
  },
  {
   "cell_type": "code",
   "execution_count": null,
   "metadata": {
    "collapsed": false
   },
   "outputs": [],
   "source": [
    "new_target = []\n",
    "new_predicted = []\n",
    "for i in range(len(ypred)):\n",
    "    if (ypred[i] in [0, 1]) and (test_target[i] in [0, 1]):\n",
    "        new_target.append(test_target[i])\n",
    "        new_predicted.append(ypred[i])"
   ]
  },
  {
   "cell_type": "code",
   "execution_count": null,
   "metadata": {
    "collapsed": false
   },
   "outputs": [],
   "source": [
    "score = f1_score(new_target, new_predicted)\n",
    "print 'xgboost', score"
   ]
  },
  {
   "cell_type": "code",
   "execution_count": null,
   "metadata": {
    "collapsed": false
   },
   "outputs": [],
   "source": []
  }
 ],
 "metadata": {
  "kernelspec": {
   "display_name": "Python 2",
   "language": "python",
   "name": "python2"
  },
  "language_info": {
   "codemirror_mode": {
    "name": "ipython",
    "version": 2
   },
   "file_extension": ".py",
   "mimetype": "text/x-python",
   "name": "python",
   "nbconvert_exporter": "python",
   "pygments_lexer": "ipython2",
   "version": "2.7.11"
  }
 },
 "nbformat": 4,
 "nbformat_minor": 0
}
