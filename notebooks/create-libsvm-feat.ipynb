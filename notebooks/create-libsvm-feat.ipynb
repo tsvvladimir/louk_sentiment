{
 "cells": [
  {
   "cell_type": "code",
   "execution_count": 75,
   "metadata": {
    "collapsed": true
   },
   "outputs": [],
   "source": [
    "from sklearn.pipeline import Pipeline\n",
    "from sklearn.feature_extraction.text import CountVectorizer\n",
    "from sklearn.feature_extraction.text import TfidfTransformer\n",
    "from tqdm import tqdm"
   ]
  },
  {
   "cell_type": "code",
   "execution_count": 76,
   "metadata": {
    "collapsed": true
   },
   "outputs": [],
   "source": [
    "conv = Pipeline([\n",
    "        ('vect', CountVectorizer()),\n",
    "        ('tfidf', TfidfTransformer()),\n",
    "    ])"
   ]
  },
  {
   "cell_type": "code",
   "execution_count": 77,
   "metadata": {
    "collapsed": true
   },
   "outputs": [],
   "source": [
    "import csv\n",
    "import codecs"
   ]
  },
  {
   "cell_type": "code",
   "execution_count": 78,
   "metadata": {
    "collapsed": false
   },
   "outputs": [
    {
     "name": "stderr",
     "output_type": "stream",
     "text": [
      "3893it [00:00, 114168.03it/s]\n",
      "4573it [00:00, 105468.20it/s]\n"
     ]
    }
   ],
   "source": [
    "train_data = []\n",
    "train_target = []\n",
    "test_data = []\n",
    "test_target = []\n",
    "with codecs.open('../data/interim/clear_train.csv', 'r') as train_file:\n",
    "    data_reader = csv.reader(train_file)\n",
    "    for row in tqdm(data_reader):\n",
    "        train_data.append(row[0])\n",
    "        train_target.append(float(row[1]))\n",
    "with codecs.open('../data/interim/clear_test.csv', 'r') as test_file:\n",
    "    data_reader = csv.reader(test_file)\n",
    "    for row in tqdm(data_reader):\n",
    "        test_data.append(row[0])\n",
    "        test_target.append(float(row[1]))"
   ]
  },
  {
   "cell_type": "code",
   "execution_count": 82,
   "metadata": {
    "collapsed": false
   },
   "outputs": [
    {
     "name": "stdout",
     "output_type": "stream",
     "text": [
      "(3893, 13722)\n",
      "(4573, 13722)\n"
     ]
    }
   ],
   "source": [
    "train_tfidf = conv.fit_transform(train_data)\n",
    "test_tfidf = conv.transform(test_data)\n",
    "print train_tfidf.shape\n",
    "print test_tfidf.shape"
   ]
  },
  {
   "cell_type": "code",
   "execution_count": 83,
   "metadata": {
    "collapsed": false
   },
   "outputs": [],
   "source": [
    "from sklearn.datasets import dump_svmlight_file"
   ]
  },
  {
   "cell_type": "code",
   "execution_count": 84,
   "metadata": {
    "collapsed": false
   },
   "outputs": [],
   "source": [
    "dump_svmlight_file(train_tfidf, train_target, '../data/libsvm/train_tfidf.libsvm')\n",
    "dump_svmlight_file(test_tfidf, test_target, '../data/libsvm/test_tfidf.libsvm')"
   ]
  }
 ],
 "metadata": {
  "kernelspec": {
   "display_name": "Python 2",
   "language": "python",
   "name": "python2"
  },
  "language_info": {
   "codemirror_mode": {
    "name": "ipython",
    "version": 2
   },
   "file_extension": ".py",
   "mimetype": "text/x-python",
   "name": "python",
   "nbconvert_exporter": "python",
   "pygments_lexer": "ipython2",
   "version": "2.7.11"
  }
 },
 "nbformat": 4,
 "nbformat_minor": 0
}
